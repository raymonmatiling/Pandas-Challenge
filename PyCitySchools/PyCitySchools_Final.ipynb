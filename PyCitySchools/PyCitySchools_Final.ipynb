{
 "cells": [
  {
   "cell_type": "markdown",
   "metadata": {},
   "source": [
    "# PyCity Schools Analysis\n",
    "\n",
    "\" Data's insight conceals, Pandas reveals! \"\n",
    "\n",
    "  ---"
   ]
  },
  {
   "cell_type": "code",
   "execution_count": 1,
   "metadata": {},
   "outputs": [
    {
     "data": {
      "text/html": [
       "<div>\n",
       "<style scoped>\n",
       "    .dataframe tbody tr th:only-of-type {\n",
       "        vertical-align: middle;\n",
       "    }\n",
       "\n",
       "    .dataframe tbody tr th {\n",
       "        vertical-align: top;\n",
       "    }\n",
       "\n",
       "    .dataframe thead th {\n",
       "        text-align: right;\n",
       "    }\n",
       "</style>\n",
       "<table border=\"1\" class=\"dataframe\">\n",
       "  <thead>\n",
       "    <tr style=\"text-align: right;\">\n",
       "      <th></th>\n",
       "      <th>Student ID</th>\n",
       "      <th>student_name</th>\n",
       "      <th>gender</th>\n",
       "      <th>grade</th>\n",
       "      <th>school_name</th>\n",
       "      <th>reading_score</th>\n",
       "      <th>math_score</th>\n",
       "      <th>School ID</th>\n",
       "      <th>type</th>\n",
       "      <th>size</th>\n",
       "      <th>budget</th>\n",
       "    </tr>\n",
       "  </thead>\n",
       "  <tbody>\n",
       "    <tr>\n",
       "      <th>0</th>\n",
       "      <td>0</td>\n",
       "      <td>Paul Bradley</td>\n",
       "      <td>M</td>\n",
       "      <td>9th</td>\n",
       "      <td>Huang High School</td>\n",
       "      <td>66</td>\n",
       "      <td>79</td>\n",
       "      <td>0</td>\n",
       "      <td>District</td>\n",
       "      <td>2917</td>\n",
       "      <td>1910635</td>\n",
       "    </tr>\n",
       "    <tr>\n",
       "      <th>1</th>\n",
       "      <td>1</td>\n",
       "      <td>Victor Smith</td>\n",
       "      <td>M</td>\n",
       "      <td>12th</td>\n",
       "      <td>Huang High School</td>\n",
       "      <td>94</td>\n",
       "      <td>61</td>\n",
       "      <td>0</td>\n",
       "      <td>District</td>\n",
       "      <td>2917</td>\n",
       "      <td>1910635</td>\n",
       "    </tr>\n",
       "    <tr>\n",
       "      <th>2</th>\n",
       "      <td>2</td>\n",
       "      <td>Kevin Rodriguez</td>\n",
       "      <td>M</td>\n",
       "      <td>12th</td>\n",
       "      <td>Huang High School</td>\n",
       "      <td>90</td>\n",
       "      <td>60</td>\n",
       "      <td>0</td>\n",
       "      <td>District</td>\n",
       "      <td>2917</td>\n",
       "      <td>1910635</td>\n",
       "    </tr>\n",
       "    <tr>\n",
       "      <th>3</th>\n",
       "      <td>3</td>\n",
       "      <td>Dr. Richard Scott</td>\n",
       "      <td>M</td>\n",
       "      <td>12th</td>\n",
       "      <td>Huang High School</td>\n",
       "      <td>67</td>\n",
       "      <td>58</td>\n",
       "      <td>0</td>\n",
       "      <td>District</td>\n",
       "      <td>2917</td>\n",
       "      <td>1910635</td>\n",
       "    </tr>\n",
       "    <tr>\n",
       "      <th>4</th>\n",
       "      <td>4</td>\n",
       "      <td>Bonnie Ray</td>\n",
       "      <td>F</td>\n",
       "      <td>9th</td>\n",
       "      <td>Huang High School</td>\n",
       "      <td>97</td>\n",
       "      <td>84</td>\n",
       "      <td>0</td>\n",
       "      <td>District</td>\n",
       "      <td>2917</td>\n",
       "      <td>1910635</td>\n",
       "    </tr>\n",
       "  </tbody>\n",
       "</table>\n",
       "</div>"
      ],
      "text/plain": [
       "   Student ID       student_name gender grade        school_name  \\\n",
       "0           0       Paul Bradley      M   9th  Huang High School   \n",
       "1           1       Victor Smith      M  12th  Huang High School   \n",
       "2           2    Kevin Rodriguez      M  12th  Huang High School   \n",
       "3           3  Dr. Richard Scott      M  12th  Huang High School   \n",
       "4           4         Bonnie Ray      F   9th  Huang High School   \n",
       "\n",
       "   reading_score  math_score  School ID      type  size   budget  \n",
       "0             66          79          0  District  2917  1910635  \n",
       "1             94          61          0  District  2917  1910635  \n",
       "2             90          60          0  District  2917  1910635  \n",
       "3             67          58          0  District  2917  1910635  \n",
       "4             97          84          0  District  2917  1910635  "
      ]
     },
     "execution_count": 1,
     "metadata": {},
     "output_type": "execute_result"
    }
   ],
   "source": [
    "# Dependencies and Setup\n",
    "import pandas as pd\n",
    "from pathlib import Path\n",
    "\n",
    "# File to Load (Remember to Change These)\n",
    "school_data_to_load = Path(\"Resources/schools_complete.csv\")\n",
    "student_data_to_load = Path(\"Resources/students_complete.csv\")\n",
    "\n",
    "# Read School and Student Data File and store into Pandas DataFrames\n",
    "school_data = pd.read_csv(school_data_to_load)\n",
    "student_data = pd.read_csv(student_data_to_load)\n",
    "\n",
    "# Combine the data into a single dataset.  \n",
    "school_data_complete = pd.merge(student_data, school_data, how=\"left\", on=[\"school_name\", \"school_name\"])\n",
    "school_data_complete.head()"
   ]
  },
  {
   "cell_type": "markdown",
   "metadata": {},
   "source": [
    "## District Summary\n",
    "\n",
    "    * Calculate the total number of unique schools\n",
    "    * Calculate the total number of students\n",
    "    * Calculate the total budget\n",
    "    * Calculate the average math score\n",
    "    * Calculate the average reading score\n",
    "    * Calculate the percentage of students who passed math score (>=70)\n",
    "    * Calculate the percentage of students who passed reading score (>=70)\n",
    "    * Calculate the percentage of students who passed math and reading (% Overall Passing)\n",
    "    * Create a new DataFrame for the above calculations called district_summary"
   ]
  },
  {
   "cell_type": "code",
   "execution_count": 2,
   "metadata": {},
   "outputs": [
    {
     "data": {
      "text/plain": [
       "15"
      ]
     },
     "execution_count": 2,
     "metadata": {},
     "output_type": "execute_result"
    }
   ],
   "source": [
    "# Calculate the total number of unique schools\n",
    "unique_school_count = school_data_complete[\"school_name\"].unique()\n",
    "\n",
    "total_school_count = len(unique_school_count)\n",
    "total_school_count"
   ]
  },
  {
   "cell_type": "code",
   "execution_count": 3,
   "metadata": {},
   "outputs": [
    {
     "data": {
      "text/plain": [
       "39170"
      ]
     },
     "execution_count": 3,
     "metadata": {},
     "output_type": "execute_result"
    }
   ],
   "source": [
    "# Calculate the total number of students\n",
    "unique_student_count = school_data_complete[\"student_name\"].count()\n",
    "total_student_count = unique_student_count\n",
    "total_student_count"
   ]
  },
  {
   "cell_type": "code",
   "execution_count": 4,
   "metadata": {
    "scrolled": true
   },
   "outputs": [
    {
     "data": {
      "text/plain": [
       "24649428"
      ]
     },
     "execution_count": 4,
     "metadata": {},
     "output_type": "execute_result"
    }
   ],
   "source": [
    "# Calculate the total budget\n",
    "total_budget = school_data[\"budget\"].sum()\n",
    "total_budget\n"
   ]
  },
  {
   "cell_type": "code",
   "execution_count": 5,
   "metadata": {},
   "outputs": [
    {
     "data": {
      "text/plain": [
       "78.98537145774827"
      ]
     },
     "execution_count": 5,
     "metadata": {},
     "output_type": "execute_result"
    }
   ],
   "source": [
    "# Calculate the average (mean) math score\n",
    "average_math_score = school_data_complete[\"math_score\"].mean()\n",
    "average_math_score"
   ]
  },
  {
   "cell_type": "code",
   "execution_count": 6,
   "metadata": {},
   "outputs": [
    {
     "data": {
      "text/plain": [
       "81.87784018381414"
      ]
     },
     "execution_count": 6,
     "metadata": {},
     "output_type": "execute_result"
    }
   ],
   "source": [
    "# Calculate the average (mean) reading score\n",
    "average_reading_score = school_data_complete[\"reading_score\"].mean ()\n",
    "average_reading_score"
   ]
  },
  {
   "cell_type": "code",
   "execution_count": 7,
   "metadata": {},
   "outputs": [
    {
     "data": {
      "text/plain": [
       "74.9808526933878"
      ]
     },
     "execution_count": 7,
     "metadata": {},
     "output_type": "execute_result"
    }
   ],
   "source": [
    "# Use the following to calculate the percentage of students who passed math (math scores greather than or equal to 70)\n",
    "\n",
    "student_passing_math = school_data_complete.loc[(school_data_complete[\"math_score\"] >= 70)]\n",
    "number_student_passing_math = student_passing_math[\"student_name\"].count()\n",
    "\n",
    "passing_math_percentage = number_student_passing_math / float(total_student_count) * 100\n",
    "passing_math_percentage"
   ]
  },
  {
   "cell_type": "code",
   "execution_count": 8,
   "metadata": {},
   "outputs": [
    {
     "data": {
      "text/plain": [
       "85.80546336482001"
      ]
     },
     "execution_count": 8,
     "metadata": {},
     "output_type": "execute_result"
    }
   ],
   "source": [
    "# Calculate the percentage of students who passed reading (hint: look at how the math percentage was calculated)  \n",
    "\n",
    "student_passing_reading = school_data_complete.loc[(school_data_complete[\"reading_score\"] >= 70)]\n",
    "number_student_passing_reading = student_passing_reading[\"student_name\"].count()\n",
    "\n",
    "passing_reading_percentage = number_student_passing_reading / float(total_student_count) * 100\n",
    "passing_reading_percentage"
   ]
  },
  {
   "cell_type": "code",
   "execution_count": 9,
   "metadata": {},
   "outputs": [
    {
     "data": {
      "text/plain": [
       "65.17232575950983"
      ]
     },
     "execution_count": 9,
     "metadata": {},
     "output_type": "execute_result"
    }
   ],
   "source": [
    "# Use the following to calculate the percentage of students that passed math and reading\n",
    "\n",
    "passing_math_reading_count = school_data_complete[(school_data_complete[\"math_score\"] >= 70) \n",
    "                                                & (school_data_complete[\"reading_score\"] >= 70)]\n",
    "overall_passing_math_reading_count = passing_math_reading_count[\"student_name\"].count()\n",
    "\n",
    "overall_passing_rate = overall_passing_math_reading_count / float(total_student_count) * 100\n",
    "overall_passing_rate"
   ]
  },
  {
   "cell_type": "code",
   "execution_count": 10,
   "metadata": {},
   "outputs": [
    {
     "data": {
      "text/html": [
       "<div>\n",
       "<style scoped>\n",
       "    .dataframe tbody tr th:only-of-type {\n",
       "        vertical-align: middle;\n",
       "    }\n",
       "\n",
       "    .dataframe tbody tr th {\n",
       "        vertical-align: top;\n",
       "    }\n",
       "\n",
       "    .dataframe thead th {\n",
       "        text-align: right;\n",
       "    }\n",
       "</style>\n",
       "<table border=\"1\" class=\"dataframe\">\n",
       "  <thead>\n",
       "    <tr style=\"text-align: right;\">\n",
       "      <th></th>\n",
       "      <th>Total Schools</th>\n",
       "      <th>Total Students</th>\n",
       "      <th>Total Budget</th>\n",
       "      <th>Average Math Score</th>\n",
       "      <th>Average Reading Score</th>\n",
       "      <th>% Passing Math</th>\n",
       "      <th>% Passing Reading</th>\n",
       "      <th>% Overall Passing</th>\n",
       "    </tr>\n",
       "  </thead>\n",
       "  <tbody>\n",
       "    <tr>\n",
       "      <th>0</th>\n",
       "      <td>15</td>\n",
       "      <td>39,170</td>\n",
       "      <td>$24,649,428.00</td>\n",
       "      <td>78.985371</td>\n",
       "      <td>81.87784</td>\n",
       "      <td>74.980853</td>\n",
       "      <td>85.805463</td>\n",
       "      <td>65.172326</td>\n",
       "    </tr>\n",
       "  </tbody>\n",
       "</table>\n",
       "</div>"
      ],
      "text/plain": [
       "   Total Schools Total Students    Total Budget Average Math Score  \\\n",
       "0             15         39,170  $24,649,428.00          78.985371   \n",
       "\n",
       "  Average Reading Score % Passing Math % Passing Reading % Overall Passing  \n",
       "0              81.87784      74.980853         85.805463         65.172326  "
      ]
     },
     "execution_count": 10,
     "metadata": {},
     "output_type": "execute_result"
    }
   ],
   "source": [
    "# Create a high-level snapshot of the district's key metrics in a DataFrame\n",
    "district_summary = pd.DataFrame({\n",
    "    \"Total Schools\": total_school_count,\n",
    "    \"Total Students\": f\"{total_student_count:,}\",\n",
    "    \"Total Budget\": f\"${total_budget:,.2f}\",\n",
    "    \"Average Math Score\": f\"{average_math_score:.6f}\",\n",
    "    \"Average Reading Score\": f\"{average_reading_score:.5f}\",\n",
    "    \"% Passing Math\": f\"{passing_math_percentage:.6f}\",\n",
    "    \"% Passing Reading\": f\"{passing_reading_percentage:.6f}\",\n",
    "    \"% Overall Passing\": f\"{overall_passing_rate: .6f}\"\n",
    "\n",
    "}, index=[0])\n",
    "\n",
    "district_summary"
   ]
  },
  {
   "cell_type": "markdown",
   "metadata": {},
   "source": [
    "## School Summary\n",
    "\n",
    "    * Use the code provided to select the school type\n",
    "    * Calculate the total student count \n",
    "    * Calculate the per capita spending \n",
    "    * Calculate the average test scores \n",
    "    * Calculate the number of schools with math scores of 70 or higher \n",
    "    * Calculate the number of schools with reading scores of 70 or higher \n",
    "    * Calculate the schools that passed both math and reading with scores of 70 or higher \n",
    "    * Calculate the passing rates \n",
    "    * Create a new DataFrame for the above calculations called per_school_summary"
   ]
  },
  {
   "cell_type": "code",
   "execution_count": 11,
   "metadata": {},
   "outputs": [],
   "source": [
    "# Group by school name\n",
    "school_name = school_data_complete.set_index('school_name').groupby(['school_name'])"
   ]
  },
  {
   "cell_type": "code",
   "execution_count": 12,
   "metadata": {},
   "outputs": [],
   "source": [
    "# Use the code provided to select all of the school types\n",
    "school_type = school_data.set_index('school_name')['type']"
   ]
  },
  {
   "cell_type": "code",
   "execution_count": 13,
   "metadata": {},
   "outputs": [],
   "source": [
    "# Calculate the total student count per school\n",
    "per_school_counts = school_name['student_name'].count()"
   ]
  },
  {
   "cell_type": "code",
   "execution_count": 14,
   "metadata": {},
   "outputs": [],
   "source": [
    "# Calculate the total school budget and per capita spending per school\n",
    "\n",
    "per_school_budget = school_data.groupby('school_name')['budget'].first()\n",
    "per_school_capita = per_school_budget / school_data.groupby('school_name')['size'].first()\n"
   ]
  },
  {
   "cell_type": "code",
   "execution_count": 15,
   "metadata": {},
   "outputs": [],
   "source": [
    "# Calculate the average test scores per school\n",
    "per_school_math = school_name[\"math_score\"].mean()\n",
    "per_school_reading = school_name[\"reading_score\"].mean()"
   ]
  },
  {
   "cell_type": "code",
   "execution_count": 16,
   "metadata": {},
   "outputs": [],
   "source": [
    "# Calculate the number of students per school with math scores of 70 or higher\n",
    "\n",
    "students_passing_math = school_data_complete[school_data_complete['math_score'] >= 70]\n",
    "students_passing_math_per_school = students_passing_math.groupby('school_name')['student_name'].count()\n"
   ]
  },
  {
   "cell_type": "code",
   "execution_count": 17,
   "metadata": {},
   "outputs": [],
   "source": [
    "# Calculate the number of students per school with reading scores of 70 or higher\n",
    "\n",
    "students_passing_reading = school_data_complete[school_data_complete['reading_score'] >= 70]\n",
    "students_passing_reading_per_school = students_passing_reading.groupby('school_name')['student_name'].count()\n"
   ]
  },
  {
   "cell_type": "code",
   "execution_count": 18,
   "metadata": {},
   "outputs": [],
   "source": [
    "# Use the provided code to calculate the number of students per school that passed both math and reading with scores of 70 or higher\n",
    "\n",
    "passing_both = school_data_complete[(school_data_complete[\"math_score\"] >= 70) & (school_data_complete[\"reading_score\"] >= 70)]\n",
    "passing_both_per_school = passing_both.groupby([\"school_name\"]).size()\n"
   ]
  },
  {
   "cell_type": "code",
   "execution_count": 19,
   "metadata": {},
   "outputs": [],
   "source": [
    "# Use the provided code to calculate the passing rates\n",
    "per_school_passing_math = students_passing_math_per_school / per_school_counts * 100\n",
    "per_school_passing_reading = students_passing_reading_per_school / per_school_counts * 100\n",
    "overall_passing_rate = passing_both_per_school / per_school_counts * 100"
   ]
  },
  {
   "cell_type": "code",
   "execution_count": 20,
   "metadata": {},
   "outputs": [
    {
     "data": {
      "text/html": [
       "<style type=\"text/css\">\n",
       "</style>\n",
       "<table id=\"T_3d3ee\">\n",
       "  <thead>\n",
       "    <tr>\n",
       "      <th class=\"blank level0\" >&nbsp;</th>\n",
       "      <th id=\"T_3d3ee_level0_col0\" class=\"col_heading level0 col0\" >School Type</th>\n",
       "      <th id=\"T_3d3ee_level0_col1\" class=\"col_heading level0 col1\" >Total Students</th>\n",
       "      <th id=\"T_3d3ee_level0_col2\" class=\"col_heading level0 col2\" >Total School Budget</th>\n",
       "      <th id=\"T_3d3ee_level0_col3\" class=\"col_heading level0 col3\" >Per Student Budget</th>\n",
       "      <th id=\"T_3d3ee_level0_col4\" class=\"col_heading level0 col4\" >Average Math Score</th>\n",
       "      <th id=\"T_3d3ee_level0_col5\" class=\"col_heading level0 col5\" >Average Reading Score</th>\n",
       "      <th id=\"T_3d3ee_level0_col6\" class=\"col_heading level0 col6\" >% Passing Math</th>\n",
       "      <th id=\"T_3d3ee_level0_col7\" class=\"col_heading level0 col7\" >% Passing Reading</th>\n",
       "      <th id=\"T_3d3ee_level0_col8\" class=\"col_heading level0 col8\" >% Overall Passing</th>\n",
       "    </tr>\n",
       "    <tr>\n",
       "      <th class=\"index_name level0\" >school_name</th>\n",
       "      <th class=\"blank col0\" >&nbsp;</th>\n",
       "      <th class=\"blank col1\" >&nbsp;</th>\n",
       "      <th class=\"blank col2\" >&nbsp;</th>\n",
       "      <th class=\"blank col3\" >&nbsp;</th>\n",
       "      <th class=\"blank col4\" >&nbsp;</th>\n",
       "      <th class=\"blank col5\" >&nbsp;</th>\n",
       "      <th class=\"blank col6\" >&nbsp;</th>\n",
       "      <th class=\"blank col7\" >&nbsp;</th>\n",
       "      <th class=\"blank col8\" >&nbsp;</th>\n",
       "    </tr>\n",
       "  </thead>\n",
       "  <tbody>\n",
       "    <tr>\n",
       "      <th id=\"T_3d3ee_level0_row0\" class=\"row_heading level0 row0\" >Bailey High School</th>\n",
       "      <td id=\"T_3d3ee_row0_col0\" class=\"data row0 col0\" >District</td>\n",
       "      <td id=\"T_3d3ee_row0_col1\" class=\"data row0 col1\" >4976</td>\n",
       "      <td id=\"T_3d3ee_row0_col2\" class=\"data row0 col2\" >$3,124,928.00</td>\n",
       "      <td id=\"T_3d3ee_row0_col3\" class=\"data row0 col3\" >$628.00</td>\n",
       "      <td id=\"T_3d3ee_row0_col4\" class=\"data row0 col4\" >77.048432</td>\n",
       "      <td id=\"T_3d3ee_row0_col5\" class=\"data row0 col5\" >81.033963</td>\n",
       "      <td id=\"T_3d3ee_row0_col6\" class=\"data row0 col6\" >66.680064</td>\n",
       "      <td id=\"T_3d3ee_row0_col7\" class=\"data row0 col7\" >81.933280</td>\n",
       "      <td id=\"T_3d3ee_row0_col8\" class=\"data row0 col8\" >54.642283</td>\n",
       "    </tr>\n",
       "    <tr>\n",
       "      <th id=\"T_3d3ee_level0_row1\" class=\"row_heading level0 row1\" >Cabrera High School</th>\n",
       "      <td id=\"T_3d3ee_row1_col0\" class=\"data row1 col0\" >Charter</td>\n",
       "      <td id=\"T_3d3ee_row1_col1\" class=\"data row1 col1\" >1858</td>\n",
       "      <td id=\"T_3d3ee_row1_col2\" class=\"data row1 col2\" >$1,081,356.00</td>\n",
       "      <td id=\"T_3d3ee_row1_col3\" class=\"data row1 col3\" >$582.00</td>\n",
       "      <td id=\"T_3d3ee_row1_col4\" class=\"data row1 col4\" >83.061895</td>\n",
       "      <td id=\"T_3d3ee_row1_col5\" class=\"data row1 col5\" >83.975780</td>\n",
       "      <td id=\"T_3d3ee_row1_col6\" class=\"data row1 col6\" >94.133477</td>\n",
       "      <td id=\"T_3d3ee_row1_col7\" class=\"data row1 col7\" >97.039828</td>\n",
       "      <td id=\"T_3d3ee_row1_col8\" class=\"data row1 col8\" >91.334769</td>\n",
       "    </tr>\n",
       "    <tr>\n",
       "      <th id=\"T_3d3ee_level0_row2\" class=\"row_heading level0 row2\" >Figueroa High School</th>\n",
       "      <td id=\"T_3d3ee_row2_col0\" class=\"data row2 col0\" >District</td>\n",
       "      <td id=\"T_3d3ee_row2_col1\" class=\"data row2 col1\" >2949</td>\n",
       "      <td id=\"T_3d3ee_row2_col2\" class=\"data row2 col2\" >$1,884,411.00</td>\n",
       "      <td id=\"T_3d3ee_row2_col3\" class=\"data row2 col3\" >$639.00</td>\n",
       "      <td id=\"T_3d3ee_row2_col4\" class=\"data row2 col4\" >76.711767</td>\n",
       "      <td id=\"T_3d3ee_row2_col5\" class=\"data row2 col5\" >81.158020</td>\n",
       "      <td id=\"T_3d3ee_row2_col6\" class=\"data row2 col6\" >65.988471</td>\n",
       "      <td id=\"T_3d3ee_row2_col7\" class=\"data row2 col7\" >80.739234</td>\n",
       "      <td id=\"T_3d3ee_row2_col8\" class=\"data row2 col8\" >53.204476</td>\n",
       "    </tr>\n",
       "    <tr>\n",
       "      <th id=\"T_3d3ee_level0_row3\" class=\"row_heading level0 row3\" >Ford High School</th>\n",
       "      <td id=\"T_3d3ee_row3_col0\" class=\"data row3 col0\" >District</td>\n",
       "      <td id=\"T_3d3ee_row3_col1\" class=\"data row3 col1\" >2739</td>\n",
       "      <td id=\"T_3d3ee_row3_col2\" class=\"data row3 col2\" >$1,763,916.00</td>\n",
       "      <td id=\"T_3d3ee_row3_col3\" class=\"data row3 col3\" >$644.00</td>\n",
       "      <td id=\"T_3d3ee_row3_col4\" class=\"data row3 col4\" >77.102592</td>\n",
       "      <td id=\"T_3d3ee_row3_col5\" class=\"data row3 col5\" >80.746258</td>\n",
       "      <td id=\"T_3d3ee_row3_col6\" class=\"data row3 col6\" >68.309602</td>\n",
       "      <td id=\"T_3d3ee_row3_col7\" class=\"data row3 col7\" >79.299014</td>\n",
       "      <td id=\"T_3d3ee_row3_col8\" class=\"data row3 col8\" >54.289887</td>\n",
       "    </tr>\n",
       "    <tr>\n",
       "      <th id=\"T_3d3ee_level0_row4\" class=\"row_heading level0 row4\" >Griffin High School</th>\n",
       "      <td id=\"T_3d3ee_row4_col0\" class=\"data row4 col0\" >Charter</td>\n",
       "      <td id=\"T_3d3ee_row4_col1\" class=\"data row4 col1\" >1468</td>\n",
       "      <td id=\"T_3d3ee_row4_col2\" class=\"data row4 col2\" >$917,500.00</td>\n",
       "      <td id=\"T_3d3ee_row4_col3\" class=\"data row4 col3\" >$625.00</td>\n",
       "      <td id=\"T_3d3ee_row4_col4\" class=\"data row4 col4\" >83.351499</td>\n",
       "      <td id=\"T_3d3ee_row4_col5\" class=\"data row4 col5\" >83.816757</td>\n",
       "      <td id=\"T_3d3ee_row4_col6\" class=\"data row4 col6\" >93.392371</td>\n",
       "      <td id=\"T_3d3ee_row4_col7\" class=\"data row4 col7\" >97.138965</td>\n",
       "      <td id=\"T_3d3ee_row4_col8\" class=\"data row4 col8\" >90.599455</td>\n",
       "    </tr>\n",
       "    <tr>\n",
       "      <th id=\"T_3d3ee_level0_row5\" class=\"row_heading level0 row5\" >Hernandez High School</th>\n",
       "      <td id=\"T_3d3ee_row5_col0\" class=\"data row5 col0\" >District</td>\n",
       "      <td id=\"T_3d3ee_row5_col1\" class=\"data row5 col1\" >4635</td>\n",
       "      <td id=\"T_3d3ee_row5_col2\" class=\"data row5 col2\" >$3,022,020.00</td>\n",
       "      <td id=\"T_3d3ee_row5_col3\" class=\"data row5 col3\" >$652.00</td>\n",
       "      <td id=\"T_3d3ee_row5_col4\" class=\"data row5 col4\" >77.289752</td>\n",
       "      <td id=\"T_3d3ee_row5_col5\" class=\"data row5 col5\" >80.934412</td>\n",
       "      <td id=\"T_3d3ee_row5_col6\" class=\"data row5 col6\" >66.752967</td>\n",
       "      <td id=\"T_3d3ee_row5_col7\" class=\"data row5 col7\" >80.862999</td>\n",
       "      <td id=\"T_3d3ee_row5_col8\" class=\"data row5 col8\" >53.527508</td>\n",
       "    </tr>\n",
       "    <tr>\n",
       "      <th id=\"T_3d3ee_level0_row6\" class=\"row_heading level0 row6\" >Holden High School</th>\n",
       "      <td id=\"T_3d3ee_row6_col0\" class=\"data row6 col0\" >Charter</td>\n",
       "      <td id=\"T_3d3ee_row6_col1\" class=\"data row6 col1\" >427</td>\n",
       "      <td id=\"T_3d3ee_row6_col2\" class=\"data row6 col2\" >$248,087.00</td>\n",
       "      <td id=\"T_3d3ee_row6_col3\" class=\"data row6 col3\" >$581.00</td>\n",
       "      <td id=\"T_3d3ee_row6_col4\" class=\"data row6 col4\" >83.803279</td>\n",
       "      <td id=\"T_3d3ee_row6_col5\" class=\"data row6 col5\" >83.814988</td>\n",
       "      <td id=\"T_3d3ee_row6_col6\" class=\"data row6 col6\" >92.505855</td>\n",
       "      <td id=\"T_3d3ee_row6_col7\" class=\"data row6 col7\" >96.252927</td>\n",
       "      <td id=\"T_3d3ee_row6_col8\" class=\"data row6 col8\" >89.227166</td>\n",
       "    </tr>\n",
       "    <tr>\n",
       "      <th id=\"T_3d3ee_level0_row7\" class=\"row_heading level0 row7\" >Huang High School</th>\n",
       "      <td id=\"T_3d3ee_row7_col0\" class=\"data row7 col0\" >District</td>\n",
       "      <td id=\"T_3d3ee_row7_col1\" class=\"data row7 col1\" >2917</td>\n",
       "      <td id=\"T_3d3ee_row7_col2\" class=\"data row7 col2\" >$1,910,635.00</td>\n",
       "      <td id=\"T_3d3ee_row7_col3\" class=\"data row7 col3\" >$655.00</td>\n",
       "      <td id=\"T_3d3ee_row7_col4\" class=\"data row7 col4\" >76.629414</td>\n",
       "      <td id=\"T_3d3ee_row7_col5\" class=\"data row7 col5\" >81.182722</td>\n",
       "      <td id=\"T_3d3ee_row7_col6\" class=\"data row7 col6\" >65.683922</td>\n",
       "      <td id=\"T_3d3ee_row7_col7\" class=\"data row7 col7\" >81.316421</td>\n",
       "      <td id=\"T_3d3ee_row7_col8\" class=\"data row7 col8\" >53.513884</td>\n",
       "    </tr>\n",
       "    <tr>\n",
       "      <th id=\"T_3d3ee_level0_row8\" class=\"row_heading level0 row8\" >Johnson High School</th>\n",
       "      <td id=\"T_3d3ee_row8_col0\" class=\"data row8 col0\" >District</td>\n",
       "      <td id=\"T_3d3ee_row8_col1\" class=\"data row8 col1\" >4761</td>\n",
       "      <td id=\"T_3d3ee_row8_col2\" class=\"data row8 col2\" >$3,094,650.00</td>\n",
       "      <td id=\"T_3d3ee_row8_col3\" class=\"data row8 col3\" >$650.00</td>\n",
       "      <td id=\"T_3d3ee_row8_col4\" class=\"data row8 col4\" >77.072464</td>\n",
       "      <td id=\"T_3d3ee_row8_col5\" class=\"data row8 col5\" >80.966394</td>\n",
       "      <td id=\"T_3d3ee_row8_col6\" class=\"data row8 col6\" >66.057551</td>\n",
       "      <td id=\"T_3d3ee_row8_col7\" class=\"data row8 col7\" >81.222432</td>\n",
       "      <td id=\"T_3d3ee_row8_col8\" class=\"data row8 col8\" >53.539172</td>\n",
       "    </tr>\n",
       "    <tr>\n",
       "      <th id=\"T_3d3ee_level0_row9\" class=\"row_heading level0 row9\" >Pena High School</th>\n",
       "      <td id=\"T_3d3ee_row9_col0\" class=\"data row9 col0\" >Charter</td>\n",
       "      <td id=\"T_3d3ee_row9_col1\" class=\"data row9 col1\" >962</td>\n",
       "      <td id=\"T_3d3ee_row9_col2\" class=\"data row9 col2\" >$585,858.00</td>\n",
       "      <td id=\"T_3d3ee_row9_col3\" class=\"data row9 col3\" >$609.00</td>\n",
       "      <td id=\"T_3d3ee_row9_col4\" class=\"data row9 col4\" >83.839917</td>\n",
       "      <td id=\"T_3d3ee_row9_col5\" class=\"data row9 col5\" >84.044699</td>\n",
       "      <td id=\"T_3d3ee_row9_col6\" class=\"data row9 col6\" >94.594595</td>\n",
       "      <td id=\"T_3d3ee_row9_col7\" class=\"data row9 col7\" >95.945946</td>\n",
       "      <td id=\"T_3d3ee_row9_col8\" class=\"data row9 col8\" >90.540541</td>\n",
       "    </tr>\n",
       "    <tr>\n",
       "      <th id=\"T_3d3ee_level0_row10\" class=\"row_heading level0 row10\" >Rodriguez High School</th>\n",
       "      <td id=\"T_3d3ee_row10_col0\" class=\"data row10 col0\" >District</td>\n",
       "      <td id=\"T_3d3ee_row10_col1\" class=\"data row10 col1\" >3999</td>\n",
       "      <td id=\"T_3d3ee_row10_col2\" class=\"data row10 col2\" >$2,547,363.00</td>\n",
       "      <td id=\"T_3d3ee_row10_col3\" class=\"data row10 col3\" >$637.00</td>\n",
       "      <td id=\"T_3d3ee_row10_col4\" class=\"data row10 col4\" >76.842711</td>\n",
       "      <td id=\"T_3d3ee_row10_col5\" class=\"data row10 col5\" >80.744686</td>\n",
       "      <td id=\"T_3d3ee_row10_col6\" class=\"data row10 col6\" >66.366592</td>\n",
       "      <td id=\"T_3d3ee_row10_col7\" class=\"data row10 col7\" >80.220055</td>\n",
       "      <td id=\"T_3d3ee_row10_col8\" class=\"data row10 col8\" >52.988247</td>\n",
       "    </tr>\n",
       "    <tr>\n",
       "      <th id=\"T_3d3ee_level0_row11\" class=\"row_heading level0 row11\" >Shelton High School</th>\n",
       "      <td id=\"T_3d3ee_row11_col0\" class=\"data row11 col0\" >Charter</td>\n",
       "      <td id=\"T_3d3ee_row11_col1\" class=\"data row11 col1\" >1761</td>\n",
       "      <td id=\"T_3d3ee_row11_col2\" class=\"data row11 col2\" >$1,056,600.00</td>\n",
       "      <td id=\"T_3d3ee_row11_col3\" class=\"data row11 col3\" >$600.00</td>\n",
       "      <td id=\"T_3d3ee_row11_col4\" class=\"data row11 col4\" >83.359455</td>\n",
       "      <td id=\"T_3d3ee_row11_col5\" class=\"data row11 col5\" >83.725724</td>\n",
       "      <td id=\"T_3d3ee_row11_col6\" class=\"data row11 col6\" >93.867121</td>\n",
       "      <td id=\"T_3d3ee_row11_col7\" class=\"data row11 col7\" >95.854628</td>\n",
       "      <td id=\"T_3d3ee_row11_col8\" class=\"data row11 col8\" >89.892107</td>\n",
       "    </tr>\n",
       "    <tr>\n",
       "      <th id=\"T_3d3ee_level0_row12\" class=\"row_heading level0 row12\" >Thomas High School</th>\n",
       "      <td id=\"T_3d3ee_row12_col0\" class=\"data row12 col0\" >Charter</td>\n",
       "      <td id=\"T_3d3ee_row12_col1\" class=\"data row12 col1\" >1635</td>\n",
       "      <td id=\"T_3d3ee_row12_col2\" class=\"data row12 col2\" >$1,043,130.00</td>\n",
       "      <td id=\"T_3d3ee_row12_col3\" class=\"data row12 col3\" >$638.00</td>\n",
       "      <td id=\"T_3d3ee_row12_col4\" class=\"data row12 col4\" >83.418349</td>\n",
       "      <td id=\"T_3d3ee_row12_col5\" class=\"data row12 col5\" >83.848930</td>\n",
       "      <td id=\"T_3d3ee_row12_col6\" class=\"data row12 col6\" >93.272171</td>\n",
       "      <td id=\"T_3d3ee_row12_col7\" class=\"data row12 col7\" >97.308869</td>\n",
       "      <td id=\"T_3d3ee_row12_col8\" class=\"data row12 col8\" >90.948012</td>\n",
       "    </tr>\n",
       "    <tr>\n",
       "      <th id=\"T_3d3ee_level0_row13\" class=\"row_heading level0 row13\" >Wilson High School</th>\n",
       "      <td id=\"T_3d3ee_row13_col0\" class=\"data row13 col0\" >Charter</td>\n",
       "      <td id=\"T_3d3ee_row13_col1\" class=\"data row13 col1\" >2283</td>\n",
       "      <td id=\"T_3d3ee_row13_col2\" class=\"data row13 col2\" >$1,319,574.00</td>\n",
       "      <td id=\"T_3d3ee_row13_col3\" class=\"data row13 col3\" >$578.00</td>\n",
       "      <td id=\"T_3d3ee_row13_col4\" class=\"data row13 col4\" >83.274201</td>\n",
       "      <td id=\"T_3d3ee_row13_col5\" class=\"data row13 col5\" >83.989488</td>\n",
       "      <td id=\"T_3d3ee_row13_col6\" class=\"data row13 col6\" >93.867718</td>\n",
       "      <td id=\"T_3d3ee_row13_col7\" class=\"data row13 col7\" >96.539641</td>\n",
       "      <td id=\"T_3d3ee_row13_col8\" class=\"data row13 col8\" >90.582567</td>\n",
       "    </tr>\n",
       "    <tr>\n",
       "      <th id=\"T_3d3ee_level0_row14\" class=\"row_heading level0 row14\" >Wright High School</th>\n",
       "      <td id=\"T_3d3ee_row14_col0\" class=\"data row14 col0\" >Charter</td>\n",
       "      <td id=\"T_3d3ee_row14_col1\" class=\"data row14 col1\" >1800</td>\n",
       "      <td id=\"T_3d3ee_row14_col2\" class=\"data row14 col2\" >$1,049,400.00</td>\n",
       "      <td id=\"T_3d3ee_row14_col3\" class=\"data row14 col3\" >$583.00</td>\n",
       "      <td id=\"T_3d3ee_row14_col4\" class=\"data row14 col4\" >83.682222</td>\n",
       "      <td id=\"T_3d3ee_row14_col5\" class=\"data row14 col5\" >83.955000</td>\n",
       "      <td id=\"T_3d3ee_row14_col6\" class=\"data row14 col6\" >93.333333</td>\n",
       "      <td id=\"T_3d3ee_row14_col7\" class=\"data row14 col7\" >96.611111</td>\n",
       "      <td id=\"T_3d3ee_row14_col8\" class=\"data row14 col8\" >90.333333</td>\n",
       "    </tr>\n",
       "  </tbody>\n",
       "</table>\n"
      ],
      "text/plain": [
       "<pandas.io.formats.style.Styler at 0x1df1d8c9ba0>"
      ]
     },
     "execution_count": 20,
     "metadata": {},
     "output_type": "execute_result"
    }
   ],
   "source": [
    "# Create a DataFrame called `per_school_summary` with columns for the calculations above.\n",
    "per_school_summary = pd.DataFrame({\n",
    "    \"School Type\": school_type,\n",
    "    \"Total Students\": per_school_counts,\n",
    "    \"Total School Budget\": per_school_budget,\n",
    "    \"Per Student Budget\": per_school_capita,\n",
    "    \"Average Math Score\": per_school_math,\n",
    "    \"Average Reading Score\": per_school_reading,\n",
    "    '% Passing Math': per_school_passing_math,\n",
    "    '% Passing Reading': per_school_passing_reading,\n",
    "    \"% Overall Passing\": overall_passing_rate\n",
    "})\n",
    "\n",
    "#manipulation\n",
    "per_school_summary = per_school_summary[['School Type', \n",
    "                          'Total Students', \n",
    "                          'Total School Budget', \n",
    "                          'Per Student Budget', \n",
    "                          'Average Math Score', \n",
    "                          'Average Reading Score',\n",
    "                          '% Passing Math',\n",
    "                          '% Passing Reading',\n",
    "                          '% Overall Passing']]\n",
    "\n",
    "#formatting\n",
    "per_school_summary.style.format({'Total Students': '{:}',\n",
    "                          \"Total School Budget\": \"${:,.2f}\",\n",
    "                          \"Per Student Budget\": \"${:.2f}\",\n",
    "                          'Average Math Score': \"{:6f}\", \n",
    "                          'Average Reading Score': \"{:6f}\", \n",
    "                          \"% Passing Math\": \"{:6f}\", \n",
    "                          \"% Passing Reading\": \"{:6f}\"})"
   ]
  },
  {
   "cell_type": "markdown",
   "metadata": {},
   "source": [
    "## Highest-Performing Schools (by % Overall Passing)\n",
    "\n",
    "    * Sort the schools by % Overall Passing in descending order \n",
    "    * Save the results to a DataFrame called top_schools\n",
    "    * Display the first 5 rows"
   ]
  },
  {
   "cell_type": "code",
   "execution_count": 21,
   "metadata": {
    "scrolled": true
   },
   "outputs": [
    {
     "data": {
      "text/html": [
       "<style type=\"text/css\">\n",
       "</style>\n",
       "<table id=\"T_e7d7f\">\n",
       "  <thead>\n",
       "    <tr>\n",
       "      <th class=\"blank level0\" >&nbsp;</th>\n",
       "      <th id=\"T_e7d7f_level0_col0\" class=\"col_heading level0 col0\" >School Type</th>\n",
       "      <th id=\"T_e7d7f_level0_col1\" class=\"col_heading level0 col1\" >Total Students</th>\n",
       "      <th id=\"T_e7d7f_level0_col2\" class=\"col_heading level0 col2\" >Total School Budget</th>\n",
       "      <th id=\"T_e7d7f_level0_col3\" class=\"col_heading level0 col3\" >Per Student Budget</th>\n",
       "      <th id=\"T_e7d7f_level0_col4\" class=\"col_heading level0 col4\" >Average Math Score</th>\n",
       "      <th id=\"T_e7d7f_level0_col5\" class=\"col_heading level0 col5\" >Average Reading Score</th>\n",
       "      <th id=\"T_e7d7f_level0_col6\" class=\"col_heading level0 col6\" >% Passing Math</th>\n",
       "      <th id=\"T_e7d7f_level0_col7\" class=\"col_heading level0 col7\" >% Passing Reading</th>\n",
       "      <th id=\"T_e7d7f_level0_col8\" class=\"col_heading level0 col8\" >% Overall Passing</th>\n",
       "    </tr>\n",
       "    <tr>\n",
       "      <th class=\"index_name level0\" >school_name</th>\n",
       "      <th class=\"blank col0\" >&nbsp;</th>\n",
       "      <th class=\"blank col1\" >&nbsp;</th>\n",
       "      <th class=\"blank col2\" >&nbsp;</th>\n",
       "      <th class=\"blank col3\" >&nbsp;</th>\n",
       "      <th class=\"blank col4\" >&nbsp;</th>\n",
       "      <th class=\"blank col5\" >&nbsp;</th>\n",
       "      <th class=\"blank col6\" >&nbsp;</th>\n",
       "      <th class=\"blank col7\" >&nbsp;</th>\n",
       "      <th class=\"blank col8\" >&nbsp;</th>\n",
       "    </tr>\n",
       "  </thead>\n",
       "  <tbody>\n",
       "    <tr>\n",
       "      <th id=\"T_e7d7f_level0_row0\" class=\"row_heading level0 row0\" >Cabrera High School</th>\n",
       "      <td id=\"T_e7d7f_row0_col0\" class=\"data row0 col0\" >Charter</td>\n",
       "      <td id=\"T_e7d7f_row0_col1\" class=\"data row0 col1\" >1858</td>\n",
       "      <td id=\"T_e7d7f_row0_col2\" class=\"data row0 col2\" >$1,081,356.00</td>\n",
       "      <td id=\"T_e7d7f_row0_col3\" class=\"data row0 col3\" >$582.00</td>\n",
       "      <td id=\"T_e7d7f_row0_col4\" class=\"data row0 col4\" >83.061895</td>\n",
       "      <td id=\"T_e7d7f_row0_col5\" class=\"data row0 col5\" >83.975780</td>\n",
       "      <td id=\"T_e7d7f_row0_col6\" class=\"data row0 col6\" >94.133477</td>\n",
       "      <td id=\"T_e7d7f_row0_col7\" class=\"data row0 col7\" >97.039828</td>\n",
       "      <td id=\"T_e7d7f_row0_col8\" class=\"data row0 col8\" >91.334769</td>\n",
       "    </tr>\n",
       "    <tr>\n",
       "      <th id=\"T_e7d7f_level0_row1\" class=\"row_heading level0 row1\" >Thomas High School</th>\n",
       "      <td id=\"T_e7d7f_row1_col0\" class=\"data row1 col0\" >Charter</td>\n",
       "      <td id=\"T_e7d7f_row1_col1\" class=\"data row1 col1\" >1635</td>\n",
       "      <td id=\"T_e7d7f_row1_col2\" class=\"data row1 col2\" >$1,043,130.00</td>\n",
       "      <td id=\"T_e7d7f_row1_col3\" class=\"data row1 col3\" >$638.00</td>\n",
       "      <td id=\"T_e7d7f_row1_col4\" class=\"data row1 col4\" >83.418349</td>\n",
       "      <td id=\"T_e7d7f_row1_col5\" class=\"data row1 col5\" >83.848930</td>\n",
       "      <td id=\"T_e7d7f_row1_col6\" class=\"data row1 col6\" >93.272171</td>\n",
       "      <td id=\"T_e7d7f_row1_col7\" class=\"data row1 col7\" >97.308869</td>\n",
       "      <td id=\"T_e7d7f_row1_col8\" class=\"data row1 col8\" >90.948012</td>\n",
       "    </tr>\n",
       "    <tr>\n",
       "      <th id=\"T_e7d7f_level0_row2\" class=\"row_heading level0 row2\" >Griffin High School</th>\n",
       "      <td id=\"T_e7d7f_row2_col0\" class=\"data row2 col0\" >Charter</td>\n",
       "      <td id=\"T_e7d7f_row2_col1\" class=\"data row2 col1\" >1468</td>\n",
       "      <td id=\"T_e7d7f_row2_col2\" class=\"data row2 col2\" >$917,500.00</td>\n",
       "      <td id=\"T_e7d7f_row2_col3\" class=\"data row2 col3\" >$625.00</td>\n",
       "      <td id=\"T_e7d7f_row2_col4\" class=\"data row2 col4\" >83.351499</td>\n",
       "      <td id=\"T_e7d7f_row2_col5\" class=\"data row2 col5\" >83.816757</td>\n",
       "      <td id=\"T_e7d7f_row2_col6\" class=\"data row2 col6\" >93.392371</td>\n",
       "      <td id=\"T_e7d7f_row2_col7\" class=\"data row2 col7\" >97.138965</td>\n",
       "      <td id=\"T_e7d7f_row2_col8\" class=\"data row2 col8\" >90.599455</td>\n",
       "    </tr>\n",
       "    <tr>\n",
       "      <th id=\"T_e7d7f_level0_row3\" class=\"row_heading level0 row3\" >Wilson High School</th>\n",
       "      <td id=\"T_e7d7f_row3_col0\" class=\"data row3 col0\" >Charter</td>\n",
       "      <td id=\"T_e7d7f_row3_col1\" class=\"data row3 col1\" >2283</td>\n",
       "      <td id=\"T_e7d7f_row3_col2\" class=\"data row3 col2\" >$1,319,574.00</td>\n",
       "      <td id=\"T_e7d7f_row3_col3\" class=\"data row3 col3\" >$578.00</td>\n",
       "      <td id=\"T_e7d7f_row3_col4\" class=\"data row3 col4\" >83.274201</td>\n",
       "      <td id=\"T_e7d7f_row3_col5\" class=\"data row3 col5\" >83.989488</td>\n",
       "      <td id=\"T_e7d7f_row3_col6\" class=\"data row3 col6\" >93.867718</td>\n",
       "      <td id=\"T_e7d7f_row3_col7\" class=\"data row3 col7\" >96.539641</td>\n",
       "      <td id=\"T_e7d7f_row3_col8\" class=\"data row3 col8\" >90.582567</td>\n",
       "    </tr>\n",
       "    <tr>\n",
       "      <th id=\"T_e7d7f_level0_row4\" class=\"row_heading level0 row4\" >Pena High School</th>\n",
       "      <td id=\"T_e7d7f_row4_col0\" class=\"data row4 col0\" >Charter</td>\n",
       "      <td id=\"T_e7d7f_row4_col1\" class=\"data row4 col1\" >962</td>\n",
       "      <td id=\"T_e7d7f_row4_col2\" class=\"data row4 col2\" >$585,858.00</td>\n",
       "      <td id=\"T_e7d7f_row4_col3\" class=\"data row4 col3\" >$609.00</td>\n",
       "      <td id=\"T_e7d7f_row4_col4\" class=\"data row4 col4\" >83.839917</td>\n",
       "      <td id=\"T_e7d7f_row4_col5\" class=\"data row4 col5\" >84.044699</td>\n",
       "      <td id=\"T_e7d7f_row4_col6\" class=\"data row4 col6\" >94.594595</td>\n",
       "      <td id=\"T_e7d7f_row4_col7\" class=\"data row4 col7\" >95.945946</td>\n",
       "      <td id=\"T_e7d7f_row4_col8\" class=\"data row4 col8\" >90.540541</td>\n",
       "    </tr>\n",
       "  </tbody>\n",
       "</table>\n"
      ],
      "text/plain": [
       "<pandas.io.formats.style.Styler at 0x1df1d8f9360>"
      ]
     },
     "execution_count": 21,
     "metadata": {},
     "output_type": "execute_result"
    }
   ],
   "source": [
    "# Sort the schools by `% Overall Passing` in descending order and display the top 5 rows.\n",
    "top_schools = per_school_summary.sort_values(\"% Overall Passing\", ascending = False)\n",
    "top_schools.head().style.format({'Total Students': '{:}',\n",
    "                           \"Total School Budget\": \"${:,.2f}\", \n",
    "                           \"Per Student Budget\": \"${:.2f}\", \n",
    "                           \"% Passing Math\": \"{:6f}\", \n",
    "                           \"% Passing Reading\": \"{:6f}\", \n",
    "                           \"% Overall Passing\": \"{:6f}\"})"
   ]
  },
  {
   "cell_type": "markdown",
   "metadata": {},
   "source": [
    "## Bottom Performing Schools (By % Overall Passing)\n",
    "\n",
    "    * Sort the schools by % Overall Passing in ascending order \n",
    "    * Save the results to a DataFrame called bottom_schools \n",
    "    * Display the first 5 rows "
   ]
  },
  {
   "cell_type": "code",
   "execution_count": 22,
   "metadata": {},
   "outputs": [
    {
     "ename": "NameError",
     "evalue": "name 'top_perform' is not defined",
     "output_type": "error",
     "traceback": [
      "\u001b[1;31m---------------------------------------------------------------------------\u001b[0m",
      "\u001b[1;31mNameError\u001b[0m                                 Traceback (most recent call last)",
      "Cell \u001b[1;32mIn[22], line 2\u001b[0m\n\u001b[0;32m      1\u001b[0m \u001b[38;5;66;03m# Sort the schools by `% Overall Passing` in ascending order and display the top 5 rows.\u001b[39;00m\n\u001b[1;32m----> 2\u001b[0m bottom_schools \u001b[38;5;241m=\u001b[39m \u001b[43mtop_perform\u001b[49m\u001b[38;5;241m.\u001b[39mtail()\n\u001b[0;32m      3\u001b[0m bottom_schools \u001b[38;5;241m=\u001b[39m bottom_schools\u001b[38;5;241m.\u001b[39msort_values(\u001b[38;5;124m'\u001b[39m\u001b[38;5;124m%\u001b[39m\u001b[38;5;124m Overall Passing\u001b[39m\u001b[38;5;124m'\u001b[39m)\n\u001b[0;32m      4\u001b[0m bottom_schools\u001b[38;5;241m.\u001b[39mstyle\u001b[38;5;241m.\u001b[39mformat({\u001b[38;5;124m'\u001b[39m\u001b[38;5;124mTotal Students\u001b[39m\u001b[38;5;124m'\u001b[39m: \u001b[38;5;124m'\u001b[39m\u001b[38;5;132;01m{: }\u001b[39;00m\u001b[38;5;124m'\u001b[39m, \n\u001b[0;32m      5\u001b[0m                        \u001b[38;5;124m\"\u001b[39m\u001b[38;5;124mTotal School Budget\u001b[39m\u001b[38;5;124m\"\u001b[39m: \u001b[38;5;124m\"\u001b[39m\u001b[38;5;124m$\u001b[39m\u001b[38;5;132;01m{:,.2f}\u001b[39;00m\u001b[38;5;124m\"\u001b[39m, \n\u001b[0;32m      6\u001b[0m                        \u001b[38;5;124m\"\u001b[39m\u001b[38;5;124mPer Student Budget\u001b[39m\u001b[38;5;124m\"\u001b[39m: \u001b[38;5;124m\"\u001b[39m\u001b[38;5;124m$\u001b[39m\u001b[38;5;132;01m{:.2f}\u001b[39;00m\u001b[38;5;124m\"\u001b[39m, \n\u001b[0;32m      7\u001b[0m                        \u001b[38;5;124m\"\u001b[39m\u001b[38;5;124m%\u001b[39m\u001b[38;5;124m Passing Math\u001b[39m\u001b[38;5;124m\"\u001b[39m: \u001b[38;5;124m\"\u001b[39m\u001b[38;5;132;01m{:6f}\u001b[39;00m\u001b[38;5;124m\"\u001b[39m, \n\u001b[0;32m      8\u001b[0m                        \u001b[38;5;124m\"\u001b[39m\u001b[38;5;124m%\u001b[39m\u001b[38;5;124m Passing Reading\u001b[39m\u001b[38;5;124m\"\u001b[39m: \u001b[38;5;124m\"\u001b[39m\u001b[38;5;132;01m{:6f}\u001b[39;00m\u001b[38;5;124m\"\u001b[39m, \n\u001b[0;32m      9\u001b[0m                        \u001b[38;5;124m\"\u001b[39m\u001b[38;5;124m%\u001b[39m\u001b[38;5;124m Overall Passing\u001b[39m\u001b[38;5;124m\"\u001b[39m: \u001b[38;5;124m\"\u001b[39m\u001b[38;5;132;01m{:6f}\u001b[39;00m\u001b[38;5;124m\"\u001b[39m})\n",
      "\u001b[1;31mNameError\u001b[0m: name 'top_perform' is not defined"
     ]
    }
   ],
   "source": [
    "# Sort the schools by `% Overall Passing` in ascending order and display the top 5 rows.\n",
    "bottom_schools = top_perform.tail()\n",
    "bottom_schools = bottom_schools.sort_values('% Overall Passing')\n",
    "bottom_schools.style.format({'Total Students': '{: }', \n",
    "                       \"Total School Budget\": \"${:,.2f}\", \n",
    "                       \"Per Student Budget\": \"${:.2f}\", \n",
    "                       \"% Passing Math\": \"{:6f}\", \n",
    "                       \"% Passing Reading\": \"{:6f}\", \n",
    "                       \"% Overall Passing\": \"{:6f}\"})"
   ]
  },
  {
   "cell_type": "markdown",
   "metadata": {},
   "source": [
    "## Math Scores by Grade\n",
    "\n",
    "    * Use the code provided to separate the data by grade \n",
    "    * Group by \"school_name\" and take the mean of each \n",
    "    * Use the code to select only the math_score \n",
    "    * Combine each of the scores above into single DataFrame called math_scores_by_grade "
   ]
  },
  {
   "cell_type": "code",
   "execution_count": null,
   "metadata": {},
   "outputs": [],
   "source": [
    "# Use the code provided to separate the data by grade\n",
    "ninth_math = student_data.loc[student_data['grade'] == '9th'].groupby('school_name')[\"math_score\"].mean()\n",
    "tenth_math = student_data.loc[student_data['grade'] == '10th'].groupby('school_name')[\"math_score\"].mean()\n",
    "eleventh_math = student_data.loc[student_data['grade'] == '11th'].groupby('school_name')[\"math_score\"].mean()\n",
    "twelfth_math = student_data.loc[student_data['grade'] == '12th'].groupby('school_name')[\"math_score\"].mean()\n",
    "\n",
    "\n",
    "# Group by `school_name` and take the mean of the `math_score` column for each.\n",
    "math_score_by_grade = pd.DataFrame({\n",
    "        \"9th\": ninth_math,\n",
    "        \"10th\": tenth_math,\n",
    "        \"11th\": eleventh_math,\n",
    "        \"12th\": twelfth_math\n",
    "})\n",
    "\n",
    "# Combine each of the scores above into single DataFrame called `math_scores_by_grade`\n",
    "math_score_by_grade = math_score_by_grade[['9th', '10th', '11th', '12th']]\n",
    "\n",
    "# Minor data wrangling\n",
    "math_score_by_grade.index.name = \"School Name\"\n",
    "\n",
    "# Display the DataFrame\n",
    "math_score_by_grade.style.format({ \"9th\": '{:.6f}', \n",
    "                                  \"10th\": '{:.6f}', \n",
    "                                  \"11th\": \"{:.6f}\", \n",
    "                                  \"12th\": \"{:.6f}\"})"
   ]
  },
  {
   "cell_type": "markdown",
   "metadata": {},
   "source": [
    "## Reading Score by Grade \n",
    "\n",
    "    * Use the code provided to separate the data by grade \n",
    "    * Group by \"school_name\" and take the mean of each \n",
    "    * Use the code to select only the reading_score \n",
    "    * Combine each of the scores above into single DataFrame called reading_scores_by_grade "
   ]
  },
  {
   "cell_type": "code",
   "execution_count": null,
   "metadata": {},
   "outputs": [],
   "source": [
    "# Use the code provided to separate the data by grade\n",
    "ninth_reading = student_data.loc[student_data['grade'] == '9th'].groupby('school_name')[\"reading_score\"].mean()\n",
    "tenth_reading = student_data.loc[student_data['grade'] == '10th'].groupby('school_name')[\"reading_score\"].mean()\n",
    "eleventh_reading = student_data.loc[student_data['grade'] == '11th'].groupby('school_name')[\"reading_score\"].mean()\n",
    "twelfth_reading = student_data.loc[student_data['grade'] == '12th'].groupby('school_name')[\"reading_score\"].mean()\n",
    "\n",
    "# Group by `school_name` and take the mean of the the `reading_score` column for each.\n",
    "reading_scores_by_grade = pd.DataFrame({\n",
    "        \"9th\": ninth_reading,\n",
    "        \"10th\": tenth_reading,\n",
    "        \"11th\": eleventh_reading,\n",
    "        \"12th\": twelfth_reading\n",
    "})\n",
    "\n",
    "# Combine each of the scores above into single DataFrame called `reading_scores_by_grade`\n",
    "reading_scores_by_grade = reading_scores_by_grade[['9th', '10th', '11th', '12th']]\n",
    "\n",
    "# Minor data wrangling\n",
    "reading_scores_by_grade.index.name = \"School Name\"\n",
    "\n",
    "# Display the DataFrame\n",
    "reading_scores_by_grade.style.format({'9th': '{:.6f}', \n",
    "                                     \"10th\": '{:.6f}', \n",
    "                                     \"11th\": \"{:.6f}\", \n",
    "                                     \"12th\": \"{:.6f}\"})"
   ]
  },
  {
   "cell_type": "markdown",
   "metadata": {},
   "source": [
    "## Scores by School Spending\n",
    "\n",
    "    * Use pd.cut with the provided code to bin the data by the spending ranges\n",
    "    * Use the code provided to calculate the averages\n",
    "    * Create the spending_summary DataFrame using the binned and averaged spending data"
   ]
  },
  {
   "cell_type": "code",
   "execution_count": null,
   "metadata": {},
   "outputs": [],
   "source": [
    "# Establish the bins \n",
    "spending_bins = [0, 585, 630, 645, 680]\n",
    "labels = [\"<$585\", \"$585-630\", \"$630-645\", \"$645-680\"]\n"
   ]
  },
  {
   "cell_type": "code",
   "execution_count": null,
   "metadata": {},
   "outputs": [],
   "source": [
    "# Create a copy of the school summary since it has the \"Per Student Budget\" \n",
    "school_spending_df = per_school_summary.copy()"
   ]
  },
  {
   "cell_type": "code",
   "execution_count": null,
   "metadata": {},
   "outputs": [],
   "source": [
    "# Use `pd.cut` to categorize spending based on the bins.\n",
    "school_data_complete['spending_bins'] = pd.cut(school_data_complete['budget']/school_data_complete['size'], \n",
    "                                               spending_bins, labels = labels)\n",
    "\n",
    "school_spending_df.style.format({\"Total School Budget\": \"${:,.2f}\", \"Per Student Budget\": \"${:.2f}\"})"
   ]
  },
  {
   "cell_type": "code",
   "execution_count": null,
   "metadata": {},
   "outputs": [],
   "source": [
    "#  Calculate averages for the desired columns. \n",
    "by_spending = school_data_complete.groupby('spending_bins')\n",
    "\n",
    "avg_math = by_spending['math_score'].mean()\n",
    "avg_read = by_spending['reading_score'].mean()\n",
    "\n",
    "pass_math_count = school_data_complete[school_data_complete['math_score'] >= 70].groupby('spending_bins')['student_name'].count()\n",
    "pass_read_count = school_data_complete[school_data_complete['reading_score'] >= 70].groupby('spending_bins')['student_name'].count()\n",
    "overall_pass_count = school_data_complete[(school_data_complete['reading_score'] >= 70) & (school_data_complete['math_score'] >= 70)].groupby('spending_bins')['student_name'].count()\n",
    "\n",
    "pass_math = (pass_math_count / by_spending['student_name'].count()) * 100\n",
    "pass_read = (pass_read_count / by_spending['student_name'].count()) * 100\n",
    "overall = (overall_pass_count / by_spending['student_name'].count()) * 100\n"
   ]
  },
  {
   "cell_type": "code",
   "execution_count": null,
   "metadata": {},
   "outputs": [],
   "source": [
    "# Assemble into DataFrame\n",
    "scores_by_spend = pd.DataFrame({\n",
    "    \"Average Math Score\": avg_math,\n",
    "    \"Average Reading Score\": avg_read,\n",
    "    \"% Passing Math\": pass_math,\n",
    "    \"% Passing Reading\": pass_read,\n",
    "    \"% Overall Passing\": overall\n",
    "            \n",
    "})\n",
    "scores_by_spend = scores_by_spend[[\n",
    "    \"Average Math Score\",\n",
    "    \"Average Reading Score\",\n",
    "    \"% Passing Math\",\n",
    "    \"% Passing Reading\",\n",
    "    \"% Overall Passing\"\n",
    "]]\n",
    "scores_by_spend.index.name = \"Per Student Budget\"\n",
    "\n",
    "# Display results\n",
    "scores_by_spend.style.format({'Average Math Score': '{:.6f}', \n",
    "                              'Average Reading Score': '{:.6f}', \n",
    "                              '% Passing Math': '{:.6f}', \n",
    "                              '% Passing Reading':'{:.6f}', \n",
    "                              '% Overall Passing': '{:.6f}'})"
   ]
  },
  {
   "cell_type": "markdown",
   "metadata": {},
   "source": [
    "## Scores by School Size\n",
    "\n",
    "    * Use pd.cut with the provided code to bin the data by the school sizes \n",
    "    * Use the code provided to calculate the averages\n",
    "    * Create the size_summary DataFrame using the binned and averaged size data "
   ]
  },
  {
   "cell_type": "code",
   "execution_count": null,
   "metadata": {},
   "outputs": [],
   "source": [
    "# Establish the bins.\n",
    "bins_size = [0, 1000, 2000, 5000]\n",
    "labels = [\"Small (<1000)\", \"Medium (1000-2000)\", \"Large (2000-5000)\"]\n"
   ]
  },
  {
   "cell_type": "code",
   "execution_count": null,
   "metadata": {},
   "outputs": [],
   "source": [
    "# Categorize the spending based on the bins\n",
    "# Use `pd.cut` on the \"Total Students\" column of the `per_school_summary` DataFrame.\n",
    "\n",
    "# Use pd.cut on the 'Total Students' column in per_school_summary\n",
    "per_school_summary['bins_size'] = pd.cut(per_school_summary['Total Students'], bins=bins_size, labels=labels)\n",
    "\n",
    "# Apply formatting to specific columns in per_school_summary\n",
    "per_school_summary.style.format({\"Total School Budget\": \"${:,.2f}\", \"Per Student Budget\": \"${:.2f}\"})\n"
   ]
  },
  {
   "cell_type": "code",
   "execution_count": null,
   "metadata": {},
   "outputs": [],
   "source": [
    "# Calculate averages for the desired columns based on 'bins_size'\n",
    "by_size = per_school_summary.groupby('bins_size')\n",
    "\n",
    "average_math_score = by_size['Average Math Score'].mean()\n",
    "average_reading_score = by_size['Average Reading Score'].mean()\n",
    "\n",
    "size_passing_math = by_size[\"% Passing Math\"].mean()\n",
    "size_passing_reading = by_size[\"% Passing Reading\"].mean()\n",
    "size_overall_passing = by_size[\"% Overall Passing\"].mean()\n"
   ]
  },
  {
   "cell_type": "code",
   "execution_count": null,
   "metadata": {
    "scrolled": true
   },
   "outputs": [],
   "source": [
    "# Create a DataFrame called `size_summary` that breaks down school performance based on school size (small, medium, or large).\n",
    "# Use the scores above to create a new DataFrame called `size_summary`\n",
    "size_summary = pd.DataFrame({\n",
    "    \"Average Math Score\": average_math_score,\n",
    "    \"Average Reading Score\": average_reading_score,\n",
    "    '% Passing Math': size_passing_math,\n",
    "    '% Passing Reading': size_passing_reading,\n",
    "    '% Overall Passing': size_overall_passing\n",
    "            \n",
    "})\n",
    "\n",
    "size_summary = size_summary[[\n",
    "    \"Average Math Score\",\n",
    "    \"Average Reading Score\",\n",
    "    '% Passing Math',\n",
    "    '% Passing Reading',\n",
    "    '% Overall Passing'\n",
    "]]\n",
    "\n",
    "size_summary.index.name = \"Total Students\"\n",
    "size_summary = size_summary.reindex(labels)\n",
    "\n",
    "# # Display results\n",
    "size_summary.style.format({'Average Math Score': '{:.6f}', \n",
    "                              'Average Reading Score': '{:.6f}', \n",
    "                              '% Passing Math': '{:.6f}', \n",
    "                              '% Passing Reading':'{:.6f}', \n",
    "                              '% Overall Passing': '{:.6f}'})"
   ]
  },
  {
   "cell_type": "markdown",
   "metadata": {},
   "source": [
    "## Scores by School Type\n",
    "\n",
    "    * Group the per_school_summary DataFrame by \"School Type\" and average the results \n",
    "    * Use the code provided to select the new column data \n",
    "    * Create a new DataFrame called type_summary that uses the new column data "
   ]
  },
  {
   "cell_type": "code",
   "execution_count": null,
   "metadata": {},
   "outputs": [],
   "source": [
    "# Group the per_school_summary DataFrame by \"School Type\" and average the results.\n",
    "by_type = per_school_summary.groupby('School Type')\n",
    "\n",
    "average_math_score = by_type['Average Math Score'].mean()\n",
    "average_reading_score = by_type['Average Reading Score'].mean()\n",
    "\n",
    "average_percent_passing_math_by_type = by_type[\"% Passing Math\"].mean()\n",
    "average_percent_passing_reading_by_type = by_type[\"% Passing Reading\"].mean()\n",
    "average_percent_overall_passing_by_type = by_type[\"% Overall Passing\"].mean()\n"
   ]
  },
  {
   "cell_type": "code",
   "execution_count": null,
   "metadata": {
    "scrolled": false
   },
   "outputs": [],
   "source": [
    "# Assemble the new data by type into a DataFrame called `type_summary`\n",
    "type_summary = pd.DataFrame({\n",
    "    \"Average Math Score\": average_math_score,\n",
    "    \"Average Reading Score\": average_reading_score,\n",
    "    '% Passing Math': average_percent_passing_math_by_type,\n",
    "    '% Passing Reading': average_percent_passing_reading_by_type,\n",
    "    \"% Overall Passing\": average_percent_overall_passing_by_type\n",
    "}) \n",
    "\n",
    "type_summary = type_summary[[\n",
    "    \"Average Math Score\",\n",
    "    \"Average Reading Score\",\n",
    "    '% Passing Math',\n",
    "    '% Passing Reading',\n",
    "    \"% Overall Passing\"\n",
    "]]\n",
    "type_summary.index.name = \"Type of School\"\n",
    "\n",
    "# Display results\n",
    "type_summary.style.format({'Average Math Score': '{:.6f}', \n",
    "                              'Average Reading Score': '{:.6f}', \n",
    "                              '% Passing Math': '{:.6f}', \n",
    "                              '% Passing Reading':'{:.6f}', \n",
    "                              '% Overall Passing': '{:.6f}'})"
   ]
  },
  {
   "cell_type": "code",
   "execution_count": null,
   "metadata": {},
   "outputs": [],
   "source": []
  }
 ],
 "metadata": {
  "anaconda-cloud": {},
  "kernel_info": {
   "name": "python3"
  },
  "kernelspec": {
   "display_name": "Python 3 (ipykernel)",
   "language": "python",
   "name": "python3"
  },
  "language_info": {
   "codemirror_mode": {
    "name": "ipython",
    "version": 3
   },
   "file_extension": ".py",
   "mimetype": "text/x-python",
   "name": "python",
   "nbconvert_exporter": "python",
   "pygments_lexer": "ipython3",
   "version": "3.10.13"
  },
  "latex_envs": {
   "LaTeX_envs_menu_present": true,
   "autoclose": false,
   "autocomplete": true,
   "bibliofile": "biblio.bib",
   "cite_by": "apalike",
   "current_citInitial": 1,
   "eqLabelWithNumbers": true,
   "eqNumInitial": 1,
   "hotkeys": {
    "equation": "Ctrl-E",
    "itemize": "Ctrl-I"
   },
   "labels_anchors": false,
   "latex_user_defs": false,
   "report_style_numbering": false,
   "user_envs_cfg": false
  },
  "nteract": {
   "version": "0.8.4"
  },
  "vscode": {
   "interpreter": {
    "hash": "5384d77d82de63fd599f73e77f9ec786e7719288bf80a29ec0288c670ac3cf32"
   }
  }
 },
 "nbformat": 4,
 "nbformat_minor": 4
}
